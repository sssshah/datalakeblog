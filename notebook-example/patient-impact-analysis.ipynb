{
 "cells": [
  {
   "cell_type": "code",
   "execution_count": 69,
   "metadata": {},
   "outputs": [],
   "source": [
    "import pandas as pd\n",
    "import numpy as np\n",
    "import cx_Oracle as cx\n",
    "from sqlalchemy import create_engine\n",
    "from ads.dataset.factory import DatasetFactory\n",
    "from ads.dataset.dataset_browser import DatasetBrowser\n",
    "import ads"
   ]
  },
  {
   "cell_type": "code",
   "execution_count": 70,
   "metadata": {},
   "outputs": [
    {
     "data": {
      "application/vnd.jupyter.widget-view+json": {
       "model_id": "",
       "version_major": 2,
       "version_minor": 0
      },
      "text/plain": [
       "HBox(children=(IntProgress(value=0, description='loop1', max=6, style=ProgressStyle(description_width='initial…"
      ]
     },
     "metadata": {},
     "output_type": "display_data"
    },
    {
     "data": {
      "text/html": [
       "\n",
       "            <br>\n",
       "\n",
       "            <div style=\"width: calc(100% -20px);\n",
       "                        border-left: 8px solid #588864;\n",
       "                        margin: 10px, 0, 10px, 0px;\n",
       "                        padding: 10px\">\n",
       "\n",
       "                \n",
       "                <p>Using entire dataset for graphing (8 rows)</p>\n",
       "                \n",
       "            </div>\n",
       "\n",
       "            "
      ],
      "text/plain": [
       "<IPython.core.display.HTML object>"
      ]
     },
     "metadata": {},
     "output_type": "display_data"
    },
    {
     "data": {
      "text/html": [
       "\n",
       "                <div style=\"padding: 7px;\n",
       "                            border-radius: 4px;\n",
       "                            background-color: #d4ecd9;\n",
       "                            margin_bottom: 5px;\">\n",
       "                    <p>Use <code>set_target()</code> to type the dataset for a particular learning task</p>\n",
       "                </div>\n",
       "\n",
       "                "
      ],
      "text/plain": [
       "<IPython.core.display.HTML object>"
      ]
     },
     "metadata": {},
     "output_type": "display_data"
    },
    {
     "name": "stdout",
     "output_type": "stream",
     "text": [
      "\r"
     ]
    }
   ],
   "source": [
    "# Read the data from Object Storage\n",
    "ds = DatasetFactory.open(\"oci://patient-test/sampleobj3.csv\", delimiter=\"|\", \n",
    "                         column_names=[\"Patient_ID\",\"Name\", \"Zip Code\",\"Visits\"],\n",
    "                         storage_options = {\n",
    "   \"config\": \"~/.oci/config\",\n",
    "   \"profile\": \"DEFAULT\"\n",
    "})"
   ]
  },
  {
   "cell_type": "code",
   "execution_count": 71,
   "metadata": {},
   "outputs": [
    {
     "data": {
      "text/html": [
       "<div>\n",
       "<style scoped>\n",
       "    .dataframe tbody tr th:only-of-type {\n",
       "        vertical-align: middle;\n",
       "    }\n",
       "\n",
       "    .dataframe tbody tr th {\n",
       "        vertical-align: top;\n",
       "    }\n",
       "\n",
       "    .dataframe thead th {\n",
       "        text-align: right;\n",
       "    }\n",
       "</style>\n",
       "<table border=\"1\" class=\"dataframe\">\n",
       "  <thead>\n",
       "    <tr style=\"text-align: right;\">\n",
       "      <th></th>\n",
       "      <th>Patient_ID</th>\n",
       "      <th>Name</th>\n",
       "      <th>Zip_Code</th>\n",
       "      <th>Visits</th>\n",
       "    </tr>\n",
       "  </thead>\n",
       "  <tbody>\n",
       "    <tr>\n",
       "      <th>0</th>\n",
       "      <td>110.0</td>\n",
       "      <td>Sam Shah</td>\n",
       "      <td>8817.0</td>\n",
       "      <td>5.0</td>\n",
       "    </tr>\n",
       "    <tr>\n",
       "      <th>1</th>\n",
       "      <td>800.0</td>\n",
       "      <td>Jane Doe</td>\n",
       "      <td>11232.0</td>\n",
       "      <td>10.0</td>\n",
       "    </tr>\n",
       "    <tr>\n",
       "      <th>2</th>\n",
       "      <td>400.0</td>\n",
       "      <td>Rick Saw</td>\n",
       "      <td>8536.0</td>\n",
       "      <td>9.0</td>\n",
       "    </tr>\n",
       "    <tr>\n",
       "      <th>3</th>\n",
       "      <td>402.0</td>\n",
       "      <td>Janet Doe</td>\n",
       "      <td>11232.0</td>\n",
       "      <td>10.0</td>\n",
       "    </tr>\n",
       "    <tr>\n",
       "      <th>4</th>\n",
       "      <td>403.0</td>\n",
       "      <td>Rick Lee</td>\n",
       "      <td>8536.0</td>\n",
       "      <td>9.0</td>\n",
       "    </tr>\n",
       "  </tbody>\n",
       "</table>\n",
       "</div>"
      ],
      "text/plain": [
       "   Patient_ID       Name  Zip_Code  Visits\n",
       "0       110.0   Sam Shah    8817.0     5.0\n",
       "1       800.0   Jane Doe   11232.0    10.0\n",
       "2       400.0   Rick Saw    8536.0     9.0\n",
       "3       402.0  Janet Doe   11232.0    10.0\n",
       "4       403.0   Rick Lee    8536.0     9.0"
      ]
     },
     "execution_count": 71,
     "metadata": {},
     "output_type": "execute_result"
    }
   ],
   "source": [
    "# Content of the file\n",
    "ds.head()"
   ]
  },
  {
   "cell_type": "code",
   "execution_count": 72,
   "metadata": {},
   "outputs": [
    {
     "data": {
      "text/html": [
       "<div>\n",
       "<style scoped>\n",
       "    .dataframe tbody tr th:only-of-type {\n",
       "        vertical-align: middle;\n",
       "    }\n",
       "\n",
       "    .dataframe tbody tr th {\n",
       "        vertical-align: top;\n",
       "    }\n",
       "\n",
       "    .dataframe thead th {\n",
       "        text-align: right;\n",
       "    }\n",
       "</style>\n",
       "<table border=\"1\" class=\"dataframe\">\n",
       "  <thead>\n",
       "    <tr style=\"text-align: right;\">\n",
       "      <th></th>\n",
       "      <th>Patient_ID</th>\n",
       "      <th>Name</th>\n",
       "      <th>Zip_Code</th>\n",
       "      <th>Visits</th>\n",
       "      <th>lifespan</th>\n",
       "    </tr>\n",
       "  </thead>\n",
       "  <tbody>\n",
       "    <tr>\n",
       "      <th>0</th>\n",
       "      <td>110000</td>\n",
       "      <td>Sam Shah</td>\n",
       "      <td>8817</td>\n",
       "      <td>5</td>\n",
       "      <td>67</td>\n",
       "    </tr>\n",
       "    <tr>\n",
       "      <th>1</th>\n",
       "      <td>800000</td>\n",
       "      <td>Jane Doe</td>\n",
       "      <td>11232</td>\n",
       "      <td>10</td>\n",
       "      <td>62</td>\n",
       "    </tr>\n",
       "    <tr>\n",
       "      <th>2</th>\n",
       "      <td>400000</td>\n",
       "      <td>Rick Saw</td>\n",
       "      <td>8536</td>\n",
       "      <td>9</td>\n",
       "      <td>63</td>\n",
       "    </tr>\n",
       "    <tr>\n",
       "      <th>3</th>\n",
       "      <td>402000</td>\n",
       "      <td>Janet Doe</td>\n",
       "      <td>11232</td>\n",
       "      <td>10</td>\n",
       "      <td>62</td>\n",
       "    </tr>\n",
       "    <tr>\n",
       "      <th>4</th>\n",
       "      <td>403000</td>\n",
       "      <td>Rick Lee</td>\n",
       "      <td>8536</td>\n",
       "      <td>9</td>\n",
       "      <td>63</td>\n",
       "    </tr>\n",
       "  </tbody>\n",
       "</table>\n",
       "</div>"
      ],
      "text/plain": [
       "   Patient_ID       Name  Zip_Code  Visits  lifespan\n",
       "0      110000   Sam Shah      8817       5        67\n",
       "1      800000   Jane Doe     11232      10        62\n",
       "2      400000   Rick Saw      8536       9        63\n",
       "3      402000  Janet Doe     11232      10        62\n",
       "4      403000   Rick Lee      8536       9        63"
      ]
     },
     "execution_count": 72,
     "metadata": {},
     "output_type": "execute_result"
    }
   ],
   "source": [
    "# Perform any wrangling, calculate new columns\n",
    "df = ds.to_pandas_dataframe()\n",
    "df['lifespan']=72\n",
    "df = df.astype({'Patient_ID': int, 'Zip_Code': int, 'Visits': int, 'lifespan': int})\n",
    "df['Patient_ID'] = 1000* df['Patient_ID'] \n",
    "df['lifespan'] = 72 - df['Visits']\n",
    "df.head()"
   ]
  },
  {
   "cell_type": "code",
   "execution_count": 73,
   "metadata": {},
   "outputs": [
    {
     "data": {
      "application/vnd.jupyter.widget-view+json": {
       "model_id": "",
       "version_major": 2,
       "version_minor": 0
      },
      "text/plain": [
       "HBox(children=(IntProgress(value=0, description='loop1', max=6, style=ProgressStyle(description_width='initial…"
      ]
     },
     "metadata": {},
     "output_type": "display_data"
    },
    {
     "data": {
      "text/html": [
       "\n",
       "            <br>\n",
       "\n",
       "            <div style=\"width: calc(100% -20px);\n",
       "                        border-left: 8px solid #588864;\n",
       "                        margin: 10px, 0, 10px, 0px;\n",
       "                        padding: 10px\">\n",
       "\n",
       "                \n",
       "                <p>Using entire dataset for graphing (8 rows)</p>\n",
       "                \n",
       "            </div>\n",
       "\n",
       "            "
      ],
      "text/plain": [
       "<IPython.core.display.HTML object>"
      ]
     },
     "metadata": {},
     "output_type": "display_data"
    },
    {
     "data": {
      "text/html": [
       "\n",
       "                <div style=\"padding: 7px;\n",
       "                            border-radius: 4px;\n",
       "                            background-color: #d4ecd9;\n",
       "                            margin_bottom: 5px;\">\n",
       "                    <p>Use <code>set_target()</code> to type the dataset for a particular learning task</p>\n",
       "                </div>\n",
       "\n",
       "                "
      ],
      "text/plain": [
       "<IPython.core.display.HTML object>"
      ]
     },
     "metadata": {},
     "output_type": "display_data"
    },
    {
     "name": "stdout",
     "output_type": "stream",
     "text": [
      "\r"
     ]
    }
   ],
   "source": [
    "# Prepare for output, convert data frame to Data Factory\n",
    "ds_out = DatasetFactory.from_dataframe(df).set_target('Patient_ID')"
   ]
  },
  {
   "cell_type": "code",
   "execution_count": 74,
   "metadata": {},
   "outputs": [
    {
     "data": {
      "text/plain": [
       "['output-bucket/sampleobj2.json0']"
      ]
     },
     "execution_count": 74,
     "metadata": {},
     "output_type": "execute_result"
    }
   ],
   "source": [
    "# Write the new table to Object Storage\n",
    "ds_out.to_json(\"oci://output-bucket/sampleobj2.json\", storage_options = {\n",
    "   \"config\": \"~/.oci/config\",\n",
    "   \"profile\": \"DEFAULT\"\n",
    "})"
   ]
  },
  {
   "cell_type": "code",
   "execution_count": 75,
   "metadata": {},
   "outputs": [
    {
     "data": {
      "application/vnd.jupyter.widget-view+json": {
       "model_id": "b07c2a5e0b0d4ca3978e7437330484df",
       "version_major": 2,
       "version_minor": 0
      },
      "text/plain": [
       "Accordion(children=(HTML(value='<h3>Type: MultiClassClassificationDataset</h3><h3>8 Rows, 5 Columns</h3><h4>Co…"
      ]
     },
     "metadata": {},
     "output_type": "display_data"
    }
   ],
   "source": [
    "ds_out.show_in_notebook()"
   ]
  },
  {
   "cell_type": "code",
   "execution_count": null,
   "metadata": {},
   "outputs": [],
   "source": []
  }
 ],
 "metadata": {
  "kernelspec": {
   "display_name": "Python 3",
   "language": "python",
   "name": "python3"
  },
  "language_info": {
   "codemirror_mode": {
    "name": "ipython",
    "version": 3
   },
   "file_extension": ".py",
   "mimetype": "text/x-python",
   "name": "python",
   "nbconvert_exporter": "python",
   "pygments_lexer": "ipython3",
   "version": "3.6.9"
  }
 },
 "nbformat": 4,
 "nbformat_minor": 4
}
